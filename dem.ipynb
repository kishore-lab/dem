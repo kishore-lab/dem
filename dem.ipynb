{
  "nbformat": 4,
  "nbformat_minor": 0,
  "metadata": {
    "colab": {
      "name": "dem.ipynb",
      "provenance": [],
      "collapsed_sections": [],
      "mount_file_id": "1xYGXAFpVbkK8SR2Ik7yPb--gqn8_GYZb",
      "authorship_tag": "ABX9TyPbF2rULgvyyAqpkrzZGaHC",
      "include_colab_link": true
    },
    "kernelspec": {
      "name": "python3",
      "display_name": "Python 3"
    }
  },
  "cells": [
    {
      "cell_type": "markdown",
      "metadata": {
        "id": "view-in-github",
        "colab_type": "text"
      },
      "source": [
        "<a href=\"https://colab.research.google.com/github/kishore-lab/dem/blob/master/dem.ipynb\" target=\"_parent\"><img src=\"https://colab.research.google.com/assets/colab-badge.svg\" alt=\"Open In Colab\"/></a>"
      ]
    },
    {
      "cell_type": "code",
      "metadata": {
        "id": "nO39r662Uo1_",
        "colab_type": "code",
        "outputId": "25400afe-72dc-4eb9-9521-53c1b5f97e8a",
        "colab": {
          "base_uri": "https://localhost:8080/",
          "height": 241
        }
      },
      "source": [
        "import numpy as np\n",
        "import pandas as pd\n",
        "data=pd.read_csv('/content/data.csv')\n",
        "data.head()"
      ],
      "execution_count": 0,
      "outputs": [
        {
          "output_type": "execute_result",
          "data": {
            "text/html": [
              "<div>\n",
              "<style scoped>\n",
              "    .dataframe tbody tr th:only-of-type {\n",
              "        vertical-align: middle;\n",
              "    }\n",
              "\n",
              "    .dataframe tbody tr th {\n",
              "        vertical-align: top;\n",
              "    }\n",
              "\n",
              "    .dataframe thead th {\n",
              "        text-align: right;\n",
              "    }\n",
              "</style>\n",
              "<table border=\"1\" class=\"dataframe\">\n",
              "  <thead>\n",
              "    <tr style=\"text-align: right;\">\n",
              "      <th></th>\n",
              "      <th>id</th>\n",
              "      <th>diagnosis</th>\n",
              "      <th>radius_mean</th>\n",
              "      <th>texture_mean</th>\n",
              "      <th>perimeter_mean</th>\n",
              "      <th>area_mean</th>\n",
              "      <th>smoothness_mean</th>\n",
              "      <th>compactness_mean</th>\n",
              "      <th>concavity_mean</th>\n",
              "      <th>concave points_mean</th>\n",
              "      <th>symmetry_mean</th>\n",
              "      <th>fractal_dimension_mean</th>\n",
              "      <th>radius_se</th>\n",
              "      <th>texture_se</th>\n",
              "      <th>perimeter_se</th>\n",
              "      <th>area_se</th>\n",
              "      <th>smoothness_se</th>\n",
              "      <th>compactness_se</th>\n",
              "      <th>concavity_se</th>\n",
              "      <th>concave points_se</th>\n",
              "      <th>symmetry_se</th>\n",
              "      <th>fractal_dimension_se</th>\n",
              "      <th>radius_worst</th>\n",
              "      <th>texture_worst</th>\n",
              "      <th>perimeter_worst</th>\n",
              "      <th>area_worst</th>\n",
              "      <th>smoothness_worst</th>\n",
              "      <th>compactness_worst</th>\n",
              "      <th>concavity_worst</th>\n",
              "      <th>concave points_worst</th>\n",
              "      <th>symmetry_worst</th>\n",
              "      <th>fractal_dimension_worst</th>\n",
              "      <th>Unnamed: 32</th>\n",
              "    </tr>\n",
              "  </thead>\n",
              "  <tbody>\n",
              "    <tr>\n",
              "      <th>0</th>\n",
              "      <td>842302</td>\n",
              "      <td>M</td>\n",
              "      <td>17.99</td>\n",
              "      <td>10.38</td>\n",
              "      <td>122.80</td>\n",
              "      <td>1001.0</td>\n",
              "      <td>0.11840</td>\n",
              "      <td>0.27760</td>\n",
              "      <td>0.3001</td>\n",
              "      <td>0.14710</td>\n",
              "      <td>0.2419</td>\n",
              "      <td>0.07871</td>\n",
              "      <td>1.0950</td>\n",
              "      <td>0.9053</td>\n",
              "      <td>8.589</td>\n",
              "      <td>153.40</td>\n",
              "      <td>0.006399</td>\n",
              "      <td>0.04904</td>\n",
              "      <td>0.05373</td>\n",
              "      <td>0.01587</td>\n",
              "      <td>0.03003</td>\n",
              "      <td>0.006193</td>\n",
              "      <td>25.38</td>\n",
              "      <td>17.33</td>\n",
              "      <td>184.60</td>\n",
              "      <td>2019.0</td>\n",
              "      <td>0.1622</td>\n",
              "      <td>0.6656</td>\n",
              "      <td>0.7119</td>\n",
              "      <td>0.2654</td>\n",
              "      <td>0.4601</td>\n",
              "      <td>0.11890</td>\n",
              "      <td>NaN</td>\n",
              "    </tr>\n",
              "    <tr>\n",
              "      <th>1</th>\n",
              "      <td>842517</td>\n",
              "      <td>M</td>\n",
              "      <td>20.57</td>\n",
              "      <td>17.77</td>\n",
              "      <td>132.90</td>\n",
              "      <td>1326.0</td>\n",
              "      <td>0.08474</td>\n",
              "      <td>0.07864</td>\n",
              "      <td>0.0869</td>\n",
              "      <td>0.07017</td>\n",
              "      <td>0.1812</td>\n",
              "      <td>0.05667</td>\n",
              "      <td>0.5435</td>\n",
              "      <td>0.7339</td>\n",
              "      <td>3.398</td>\n",
              "      <td>74.08</td>\n",
              "      <td>0.005225</td>\n",
              "      <td>0.01308</td>\n",
              "      <td>0.01860</td>\n",
              "      <td>0.01340</td>\n",
              "      <td>0.01389</td>\n",
              "      <td>0.003532</td>\n",
              "      <td>24.99</td>\n",
              "      <td>23.41</td>\n",
              "      <td>158.80</td>\n",
              "      <td>1956.0</td>\n",
              "      <td>0.1238</td>\n",
              "      <td>0.1866</td>\n",
              "      <td>0.2416</td>\n",
              "      <td>0.1860</td>\n",
              "      <td>0.2750</td>\n",
              "      <td>0.08902</td>\n",
              "      <td>NaN</td>\n",
              "    </tr>\n",
              "    <tr>\n",
              "      <th>2</th>\n",
              "      <td>84300903</td>\n",
              "      <td>M</td>\n",
              "      <td>19.69</td>\n",
              "      <td>21.25</td>\n",
              "      <td>130.00</td>\n",
              "      <td>1203.0</td>\n",
              "      <td>0.10960</td>\n",
              "      <td>0.15990</td>\n",
              "      <td>0.1974</td>\n",
              "      <td>0.12790</td>\n",
              "      <td>0.2069</td>\n",
              "      <td>0.05999</td>\n",
              "      <td>0.7456</td>\n",
              "      <td>0.7869</td>\n",
              "      <td>4.585</td>\n",
              "      <td>94.03</td>\n",
              "      <td>0.006150</td>\n",
              "      <td>0.04006</td>\n",
              "      <td>0.03832</td>\n",
              "      <td>0.02058</td>\n",
              "      <td>0.02250</td>\n",
              "      <td>0.004571</td>\n",
              "      <td>23.57</td>\n",
              "      <td>25.53</td>\n",
              "      <td>152.50</td>\n",
              "      <td>1709.0</td>\n",
              "      <td>0.1444</td>\n",
              "      <td>0.4245</td>\n",
              "      <td>0.4504</td>\n",
              "      <td>0.2430</td>\n",
              "      <td>0.3613</td>\n",
              "      <td>0.08758</td>\n",
              "      <td>NaN</td>\n",
              "    </tr>\n",
              "    <tr>\n",
              "      <th>3</th>\n",
              "      <td>84348301</td>\n",
              "      <td>M</td>\n",
              "      <td>11.42</td>\n",
              "      <td>20.38</td>\n",
              "      <td>77.58</td>\n",
              "      <td>386.1</td>\n",
              "      <td>0.14250</td>\n",
              "      <td>0.28390</td>\n",
              "      <td>0.2414</td>\n",
              "      <td>0.10520</td>\n",
              "      <td>0.2597</td>\n",
              "      <td>0.09744</td>\n",
              "      <td>0.4956</td>\n",
              "      <td>1.1560</td>\n",
              "      <td>3.445</td>\n",
              "      <td>27.23</td>\n",
              "      <td>0.009110</td>\n",
              "      <td>0.07458</td>\n",
              "      <td>0.05661</td>\n",
              "      <td>0.01867</td>\n",
              "      <td>0.05963</td>\n",
              "      <td>0.009208</td>\n",
              "      <td>14.91</td>\n",
              "      <td>26.50</td>\n",
              "      <td>98.87</td>\n",
              "      <td>567.7</td>\n",
              "      <td>0.2098</td>\n",
              "      <td>0.8663</td>\n",
              "      <td>0.6869</td>\n",
              "      <td>0.2575</td>\n",
              "      <td>0.6638</td>\n",
              "      <td>0.17300</td>\n",
              "      <td>NaN</td>\n",
              "    </tr>\n",
              "    <tr>\n",
              "      <th>4</th>\n",
              "      <td>84358402</td>\n",
              "      <td>M</td>\n",
              "      <td>20.29</td>\n",
              "      <td>14.34</td>\n",
              "      <td>135.10</td>\n",
              "      <td>1297.0</td>\n",
              "      <td>0.10030</td>\n",
              "      <td>0.13280</td>\n",
              "      <td>0.1980</td>\n",
              "      <td>0.10430</td>\n",
              "      <td>0.1809</td>\n",
              "      <td>0.05883</td>\n",
              "      <td>0.7572</td>\n",
              "      <td>0.7813</td>\n",
              "      <td>5.438</td>\n",
              "      <td>94.44</td>\n",
              "      <td>0.011490</td>\n",
              "      <td>0.02461</td>\n",
              "      <td>0.05688</td>\n",
              "      <td>0.01885</td>\n",
              "      <td>0.01756</td>\n",
              "      <td>0.005115</td>\n",
              "      <td>22.54</td>\n",
              "      <td>16.67</td>\n",
              "      <td>152.20</td>\n",
              "      <td>1575.0</td>\n",
              "      <td>0.1374</td>\n",
              "      <td>0.2050</td>\n",
              "      <td>0.4000</td>\n",
              "      <td>0.1625</td>\n",
              "      <td>0.2364</td>\n",
              "      <td>0.07678</td>\n",
              "      <td>NaN</td>\n",
              "    </tr>\n",
              "  </tbody>\n",
              "</table>\n",
              "</div>"
            ],
            "text/plain": [
              "         id diagnosis  ...  fractal_dimension_worst  Unnamed: 32\n",
              "0    842302         M  ...                  0.11890          NaN\n",
              "1    842517         M  ...                  0.08902          NaN\n",
              "2  84300903         M  ...                  0.08758          NaN\n",
              "3  84348301         M  ...                  0.17300          NaN\n",
              "4  84358402         M  ...                  0.07678          NaN\n",
              "\n",
              "[5 rows x 33 columns]"
            ]
          },
          "metadata": {
            "tags": []
          },
          "execution_count": 19
        }
      ]
    },
    {
      "cell_type": "code",
      "metadata": {
        "id": "-ml8z8oSVyXN",
        "colab_type": "code",
        "outputId": "03448145-5e3c-4c1a-c0e2-25363d58e619",
        "colab": {
          "base_uri": "https://localhost:8080/",
          "height": 595
        }
      },
      "source": [
        "data.isnull().sum()"
      ],
      "execution_count": 0,
      "outputs": [
        {
          "output_type": "execute_result",
          "data": {
            "text/plain": [
              "id                           0\n",
              "diagnosis                    0\n",
              "radius_mean                  0\n",
              "texture_mean                 0\n",
              "perimeter_mean               0\n",
              "area_mean                    0\n",
              "smoothness_mean              0\n",
              "compactness_mean             0\n",
              "concavity_mean               0\n",
              "concave points_mean          0\n",
              "symmetry_mean                0\n",
              "fractal_dimension_mean       0\n",
              "radius_se                    0\n",
              "texture_se                   0\n",
              "perimeter_se                 0\n",
              "area_se                      0\n",
              "smoothness_se                0\n",
              "compactness_se               0\n",
              "concavity_se                 0\n",
              "concave points_se            0\n",
              "symmetry_se                  0\n",
              "fractal_dimension_se         0\n",
              "radius_worst                 0\n",
              "texture_worst                0\n",
              "perimeter_worst              0\n",
              "area_worst                   0\n",
              "smoothness_worst             0\n",
              "compactness_worst            0\n",
              "concavity_worst              0\n",
              "concave points_worst         0\n",
              "symmetry_worst               0\n",
              "fractal_dimension_worst      0\n",
              "Unnamed: 32                569\n",
              "dtype: int64"
            ]
          },
          "metadata": {
            "tags": []
          },
          "execution_count": 20
        }
      ]
    },
    {
      "cell_type": "code",
      "metadata": {
        "id": "KjYrpI2THGvC",
        "colab_type": "code",
        "colab": {}
      },
      "source": [
        ""
      ],
      "execution_count": 0,
      "outputs": []
    },
    {
      "cell_type": "code",
      "metadata": {
        "id": "4MgjDjxvZZG-",
        "colab_type": "code",
        "outputId": "8133c4a7-9b73-4d1a-ad20-6204ead12656",
        "colab": {
          "base_uri": "https://localhost:8080/",
          "height": 187
        }
      },
      "source": [
        "data = data.drop(['id', 'Unnamed: 32'], axis = 1)\n",
        "print(data.columns)"
      ],
      "execution_count": 0,
      "outputs": [
        {
          "output_type": "stream",
          "text": [
            "Index(['diagnosis', 'radius_mean', 'texture_mean', 'perimeter_mean',\n",
            "       'area_mean', 'smoothness_mean', 'compactness_mean', 'concavity_mean',\n",
            "       'concave points_mean', 'symmetry_mean', 'fractal_dimension_mean',\n",
            "       'radius_se', 'texture_se', 'perimeter_se', 'area_se', 'smoothness_se',\n",
            "       'compactness_se', 'concavity_se', 'concave points_se', 'symmetry_se',\n",
            "       'fractal_dimension_se', 'radius_worst', 'texture_worst',\n",
            "       'perimeter_worst', 'area_worst', 'smoothness_worst',\n",
            "       'compactness_worst', 'concavity_worst', 'concave points_worst',\n",
            "       'symmetry_worst', 'fractal_dimension_worst'],\n",
            "      dtype='object')\n"
          ],
          "name": "stdout"
        }
      ]
    },
    {
      "cell_type": "code",
      "metadata": {
        "id": "yFBHKH43Z_oM",
        "colab_type": "code",
        "outputId": "f6b0cec9-c19a-4fe6-9f20-af70090f0862",
        "colab": {
          "base_uri": "https://localhost:8080/",
          "height": 561
        }
      },
      "source": [
        "data.dtypes"
      ],
      "execution_count": 0,
      "outputs": [
        {
          "output_type": "execute_result",
          "data": {
            "text/plain": [
              "diagnosis                   object\n",
              "radius_mean                float64\n",
              "texture_mean               float64\n",
              "perimeter_mean             float64\n",
              "area_mean                  float64\n",
              "smoothness_mean            float64\n",
              "compactness_mean           float64\n",
              "concavity_mean             float64\n",
              "concave points_mean        float64\n",
              "symmetry_mean              float64\n",
              "fractal_dimension_mean     float64\n",
              "radius_se                  float64\n",
              "texture_se                 float64\n",
              "perimeter_se               float64\n",
              "area_se                    float64\n",
              "smoothness_se              float64\n",
              "compactness_se             float64\n",
              "concavity_se               float64\n",
              "concave points_se          float64\n",
              "symmetry_se                float64\n",
              "fractal_dimension_se       float64\n",
              "radius_worst               float64\n",
              "texture_worst              float64\n",
              "perimeter_worst            float64\n",
              "area_worst                 float64\n",
              "smoothness_worst           float64\n",
              "compactness_worst          float64\n",
              "concavity_worst            float64\n",
              "concave points_worst       float64\n",
              "symmetry_worst             float64\n",
              "fractal_dimension_worst    float64\n",
              "dtype: object"
            ]
          },
          "metadata": {
            "tags": []
          },
          "execution_count": 22
        }
      ]
    },
    {
      "cell_type": "code",
      "metadata": {
        "id": "qyN4x1c2aQD4",
        "colab_type": "code",
        "colab": {}
      },
      "source": [
        "df=data.values\n",
        "y = df[:,0]\n",
        "x = df[:,1:31]\n",
        "\n",
        "from sklearn.preprocessing import LabelEncoder\n",
        "\n",
        "# performing label encoding\n",
        "le = LabelEncoder()\n",
        "y= le.fit_transform(y)\n",
        "\n"
      ],
      "execution_count": 0,
      "outputs": []
    },
    {
      "cell_type": "code",
      "metadata": {
        "id": "fpQ5iCGsgRsJ",
        "colab_type": "code",
        "outputId": "564d3792-42b7-48ea-ec6e-542bdb218c21",
        "colab": {
          "base_uri": "https://localhost:8080/",
          "height": 85
        }
      },
      "source": [
        "from sklearn.model_selection import train_test_split\n",
        "x_train, x_test, y_train, y_test = train_test_split(x, y, test_size = 0.25, random_state = 16)\n",
        "\n",
        "print(\"Shape of x_train :\", x_train.shape)\n",
        "print(\"Shape of y_train :\", y_train.shape)\n",
        "print(\"Shape of x_test :\", x_test.shape)\n",
        "print(\"Shape of y_test :\", y_test.shape)"
      ],
      "execution_count": 0,
      "outputs": [
        {
          "output_type": "stream",
          "text": [
            "Shape of x_train : (426, 30)\n",
            "Shape of y_train : (426,)\n",
            "Shape of x_test : (143, 30)\n",
            "Shape of y_test : (143,)\n"
          ],
          "name": "stdout"
        }
      ]
    },
    {
      "cell_type": "code",
      "metadata": {
        "id": "QioAKe6wvTBK",
        "colab_type": "code",
        "outputId": "0b367945-b108-46e1-b340-e638b6dfaed3",
        "colab": {
          "base_uri": "https://localhost:8080/",
          "height": 102
        }
      },
      "source": [
        "##XGB CLASSIFIER\n",
        "from xgboost import XGBClassifier\n",
        "from sklearn.model_selection import train_test_split\n",
        "from sklearn.metrics import accuracy_score\n",
        "from sklearn.metrics import recall_score\n",
        "from sklearn.metrics import confusion_matrix\n",
        "x_train,x_test,y_train,y_test=train_test_split(x,y)\n",
        "ob1=XGBClassifier()\n",
        "ob1.fit(x_train,y_train)\n",
        "y_pred=ob1.predict(x_test)\n",
        "accuracy=accuracy_score(y_test,y_pred)\n",
        "print(\"accuracy :\" ,(accuracy * 100.0))\n",
        "recall=recall_score(y_test,y_pred,average='micro')\n",
        "print(\"recall :\" ,(recall* 100.0))\n",
        "cm=confusion_matrix(y_test,y_pred)\n",
        "print(\"confusion matrix\")\n",
        "print(cm)\n",
        "\n",
        "\n",
        "\n",
        "\n"
      ],
      "execution_count": 0,
      "outputs": [
        {
          "output_type": "stream",
          "text": [
            "accuracy : 95.8041958041958\n",
            "recall : 95.8041958041958\n",
            "confusion matrix\n",
            "[[88  2]\n",
            " [ 4 49]]\n"
          ],
          "name": "stdout"
        }
      ]
    },
    {
      "cell_type": "markdown",
      "metadata": {
        "id": "4AguTMhATzo8",
        "colab_type": "text"
      },
      "source": [
        ""
      ]
    },
    {
      "cell_type": "code",
      "metadata": {
        "id": "GSpYe1AzTnfn",
        "colab_type": "code",
        "colab": {}
      },
      "source": [
        ""
      ],
      "execution_count": 0,
      "outputs": []
    },
    {
      "cell_type": "code",
      "metadata": {
        "id": "bNAbi3Aaz0e_",
        "colab_type": "code",
        "outputId": "b551983f-2cbe-4463-b1ee-ba34f7af6bcd",
        "colab": {
          "base_uri": "https://localhost:8080/",
          "height": 102
        }
      },
      "source": [
        "##SVC CLASSIFIER\n",
        "from sklearn import svm\n",
        "x_train,x_test,y_train,y_test=train_test_split(x,y,test_size=0.25,random_state=16)\n",
        "ob2=svm.SVC()\n",
        "ob2.fit(x_train,y_train)\n",
        "y_pred=ob2.predict(x_test)\n",
        "accuracy=accuracy_score(y_test,y_pred)\n",
        "print(\"accuracy=\",(accuracy*100,0))\n",
        "recall=recall_score(y_test,y_pred,average='micro')\n",
        "print(\"recall\",(recall*100))\n",
        "cm=confusion_matrix(y_test,y_pred)\n",
        "\n",
        "print(\"confusion matrix\")\n",
        "print(cm)\n",
        "\n",
        "\n",
        "\n",
        "\n",
        "\n"
      ],
      "execution_count": 0,
      "outputs": [
        {
          "output_type": "stream",
          "text": [
            "accuracy= (88.11188811188812, 0)\n",
            "recall 88.11188811188812\n",
            "confusion matrix\n",
            "[[88  3]\n",
            " [14 38]]\n"
          ],
          "name": "stdout"
        }
      ]
    },
    {
      "cell_type": "code",
      "metadata": {
        "colab_type": "code",
        "outputId": "606f22e6-7732-48b2-c66f-0391e27d3a60",
        "id": "mC4weUwLYQjG",
        "colab": {
          "base_uri": "https://localhost:8080/",
          "height": 102
        }
      },
      "source": [
        "##DECISIONTREECLASSIFIER\n",
        "from sklearn.tree import DecisionTreeClassifier\n",
        "clf=DecisionTreeClassifier()\n",
        "clf=clf.fit(x_train,y_train)\n",
        "y_pred=clf.predict(x_test)\n",
        "accuracy=accuracy_score(y_test,y_pred)\n",
        "print(\"accuracy\",accuracy)\n",
        "recall=recall_score(y_test,y_pred)\n",
        "print(\"recall\",recall)\n",
        "\n",
        "cm=confusion_matrix(y_test,y_pred)\n",
        "print(\"confusion matrix\")\n",
        "print(cm)\n"
      ],
      "execution_count": 0,
      "outputs": [
        {
          "output_type": "stream",
          "text": [
            "accuracy 0.951048951048951\n",
            "recall 0.9230769230769231\n",
            "confusion matrix\n",
            "[[88  3]\n",
            " [ 4 48]]\n"
          ],
          "name": "stdout"
        }
      ]
    },
    {
      "cell_type": "code",
      "metadata": {
        "id": "gO-UFDOkXuth",
        "colab_type": "code",
        "outputId": "53ff9b99-a3b6-46f5-e88e-00328049359e",
        "colab": {
          "base_uri": "https://localhost:8080/",
          "height": 775
        }
      },
      "source": [
        "##PLOTTING_DECISION_TREE\n",
        " from sklearn import tree\n",
        "tree.plot_tree(clf)"
      ],
      "execution_count": 0,
      "outputs": [
        {
          "output_type": "execute_result",
          "data": {
            "text/plain": [
              "[Text(186.0, 203.85, 'X[22] <= 106.1\\ngini = 0.469\\nsamples = 426\\nvalue = [266, 160]'),\n",
              " Text(130.20000000000002, 176.67000000000002, 'X[27] <= 0.181\\ngini = 0.088\\nsamples = 260\\nvalue = [248, 12]'),\n",
              " Text(111.60000000000001, 149.49, 'X[27] <= 0.135\\ngini = 0.053\\nsamples = 255\\nvalue = [248, 7]'),\n",
              " Text(74.4, 122.31, 'X[29] <= 0.055\\ngini = 0.025\\nsamples = 241\\nvalue = [238, 3]'),\n",
              " Text(55.800000000000004, 95.13, 'gini = 0.0\\nsamples = 1\\nvalue = [0, 1]'),\n",
              " Text(93.0, 95.13, 'X[10] <= 0.643\\ngini = 0.017\\nsamples = 240\\nvalue = [238, 2]'),\n",
              " Text(55.800000000000004, 67.94999999999999, 'X[14] <= 0.003\\ngini = 0.008\\nsamples = 237\\nvalue = [236, 1]'),\n",
              " Text(37.2, 40.77000000000001, 'X[22] <= 99.845\\ngini = 0.278\\nsamples = 6\\nvalue = [5, 1]'),\n",
              " Text(18.6, 13.590000000000003, 'gini = 0.0\\nsamples = 5\\nvalue = [5, 0]'),\n",
              " Text(55.800000000000004, 13.590000000000003, 'gini = 0.0\\nsamples = 1\\nvalue = [0, 1]'),\n",
              " Text(74.4, 40.77000000000001, 'gini = 0.0\\nsamples = 231\\nvalue = [231, 0]'),\n",
              " Text(130.20000000000002, 67.94999999999999, 'X[18] <= 0.025\\ngini = 0.444\\nsamples = 3\\nvalue = [2, 1]'),\n",
              " Text(111.60000000000001, 40.77000000000001, 'gini = 0.0\\nsamples = 1\\nvalue = [0, 1]'),\n",
              " Text(148.8, 40.77000000000001, 'gini = 0.0\\nsamples = 2\\nvalue = [2, 0]'),\n",
              " Text(148.8, 122.31, 'X[21] <= 28.545\\ngini = 0.408\\nsamples = 14\\nvalue = [10, 4]'),\n",
              " Text(130.20000000000002, 95.13, 'gini = 0.0\\nsamples = 10\\nvalue = [10, 0]'),\n",
              " Text(167.4, 95.13, 'gini = 0.0\\nsamples = 4\\nvalue = [0, 4]'),\n",
              " Text(148.8, 149.49, 'gini = 0.0\\nsamples = 5\\nvalue = [0, 5]'),\n",
              " Text(241.8, 176.67000000000002, 'X[21] <= 20.645\\ngini = 0.193\\nsamples = 166\\nvalue = [18, 148]'),\n",
              " Text(204.60000000000002, 149.49, 'X[20] <= 17.74\\ngini = 0.472\\nsamples = 21\\nvalue = [13, 8]'),\n",
              " Text(186.0, 122.31, 'gini = 0.0\\nsamples = 12\\nvalue = [12, 0]'),\n",
              " Text(223.20000000000002, 122.31, 'X[15] <= 0.014\\ngini = 0.198\\nsamples = 9\\nvalue = [1, 8]'),\n",
              " Text(204.60000000000002, 95.13, 'gini = 0.0\\nsamples = 1\\nvalue = [1, 0]'),\n",
              " Text(241.8, 95.13, 'gini = 0.0\\nsamples = 8\\nvalue = [0, 8]'),\n",
              " Text(279.0, 149.49, 'X[20] <= 15.465\\ngini = 0.067\\nsamples = 145\\nvalue = [5, 140]'),\n",
              " Text(260.40000000000003, 122.31, 'gini = 0.0\\nsamples = 2\\nvalue = [2, 0]'),\n",
              " Text(297.6, 122.31, 'X[7] <= 0.049\\ngini = 0.041\\nsamples = 143\\nvalue = [3, 140]'),\n",
              " Text(279.0, 95.13, 'X[15] <= 0.016\\ngini = 0.355\\nsamples = 13\\nvalue = [3, 10]'),\n",
              " Text(260.40000000000003, 67.94999999999999, 'gini = 0.0\\nsamples = 10\\nvalue = [0, 10]'),\n",
              " Text(297.6, 67.94999999999999, 'gini = 0.0\\nsamples = 3\\nvalue = [3, 0]'),\n",
              " Text(316.20000000000005, 95.13, 'gini = 0.0\\nsamples = 130\\nvalue = [0, 130]')]"
            ]
          },
          "metadata": {
            "tags": []
          },
          "execution_count": 28
        },
        {
          "output_type": "display_data",
          "data": {
            "image/png": "[encoded data removed]",
            "text/plain": [
              "<Figure size 432x288 with 1 Axes>"
            ]
          },
          "metadata": {
            "tags": []
          }
        }
      ]
    },
    {
      "cell_type": "code",
      "metadata": {
        "id": "aelVxmn7fszf",
        "colab_type": "code",
        "outputId": "975aba1b-ade5-44f1-f20f-1510f35daf28",
        "colab": {
          "base_uri": "https://localhost:8080/",
          "height": 102
        }
      },
      "source": [
        "##KNEIGHBOURS_CLASSIFIER\n",
        "from sklearn.neighbors import KNeighborsClassifier\n",
        "clf1=KNeighborsClassifier()\n",
        "clf1=clf1.fit(x_train,y_train)\n",
        "y_pred=clf1.predict(x_test)\n",
        "accuracy=accuracy_score(y_test,y_pred)\n",
        "print(\"accuracy\",accuracy)\n",
        "recall=recall_score(y_test,y_pred)\n",
        "print(\"recall\",recall)\n",
        "cm=confusion_matrix(y_test,y_pred)\n",
        "print(\"confusion matrix\")\n",
        "print(cm)\n",
        "\n"
      ],
      "execution_count": 0,
      "outputs": [
        {
          "output_type": "stream",
          "text": [
            "accuracy 0.916083916083916\n",
            "recall 0.8461538461538461\n",
            "confusion matrix\n",
            "[[87  4]\n",
            " [ 8 44]]\n"
          ],
          "name": "stdout"
        }
      ]
    },
    {
      "cell_type": "code",
      "metadata": {
        "id": "Our1u96-hu6M",
        "colab_type": "code",
        "outputId": "5f138c8b-9b35-4872-a087-928dde105bb5",
        "colab": {
          "base_uri": "https://localhost:8080/",
          "height": 102
        }
      },
      "source": [
        "##NAIVE_BAYES_CLASSIFIER\n",
        "from sklearn.naive_bayes import GaussianNB\n",
        "clf2=GaussianNB()\n",
        "clf2.fit(x_train,y_train)\n",
        "y_pred=clf2.predict(x_test)\n",
        "accuracy=accuracy_score(y_test,y_pred)\n",
        "print(\"accuracy\",accuracy)\n",
        "recall=recall_score(y_test,y_pred)\n",
        "print(\"recall\",recall)\n",
        "cm=confusion_matrix(y_test,y_pred)\n",
        "print(\"confusion matrix\")\n",
        "print(cm)\n"
      ],
      "execution_count": 0,
      "outputs": [
        {
          "output_type": "stream",
          "text": [
            "accuracy 0.965034965034965\n",
            "recall 0.9230769230769231\n",
            "confusion matrix\n",
            "[[90  1]\n",
            " [ 4 48]]\n"
          ],
          "name": "stdout"
        }
      ]
    },
    {
      "cell_type": "code",
      "metadata": {
        "id": "jMVoLJYQ9yuQ",
        "colab_type": "code",
        "outputId": "090da646-df0a-4087-ae50-2be0671453f2",
        "colab": {
          "base_uri": "https://localhost:8080/",
          "height": 129
        }
      },
      "source": [
        "##PLOTTING KNN :DECISION BOUNDARIES\n",
        "from mlxtend.plotting import plot_decision_regions\n",
        "import matplotlib.pyplot as plt\n",
        "value=\n",
        "width=880\n",
        "plot_decision_regions(x,y.astype(np.integer),clf=clf1,filler_feature_values={0:value,1:value,2:value,3:value},\n",
        "                      filler_feature_ranges={0:width,1:width,2:width,3:width},\n",
        "                      x_highlight=None,zoom_factor=(10.0)\n",
        "                    \n",
        "plt.xlabel('lump measures')\n",
        "plt.ylabel('lump measures')\n",
        "plt.title('KNN with breast dataset')\n",
        "plt.show()"
      ],
      "execution_count": 0,
      "outputs": [
        {
          "output_type": "error",
          "ename": "SyntaxError",
          "evalue": "ignored",
          "traceback": [
            "\u001b[0;36m  File \u001b[0;32m\"<ipython-input-31-d681129907ca>\"\u001b[0;36m, line \u001b[0;32m3\u001b[0m\n\u001b[0;31m    value=\u001b[0m\n\u001b[0m          ^\u001b[0m\n\u001b[0;31mSyntaxError\u001b[0m\u001b[0;31m:\u001b[0m invalid syntax\n"
          ]
        }
      ]
    },
    {
      "cell_type": "code",
      "metadata": {
        "id": "cmrrNS6yBv8O",
        "colab_type": "code",
        "colab": {}
      },
      "source": [
        ""
      ],
      "execution_count": 0,
      "outputs": []
    }
  ]
}